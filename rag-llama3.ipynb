{
 "cells": [
  {
   "cell_type": "code",
   "execution_count": 1,
   "id": "ed90fa18-ca4c-4a58-b6b1-f43a284e1ddf",
   "metadata": {
    "execution": {
     "iopub.execute_input": "2024-04-26T09:17:53.916977Z",
     "iopub.status.busy": "2024-04-26T09:17:53.916460Z",
     "iopub.status.idle": "2024-04-26T09:18:29.859360Z",
     "shell.execute_reply": "2024-04-26T09:18:29.858517Z",
     "shell.execute_reply.started": "2024-04-26T09:17:53.916920Z"
    }
   },
   "outputs": [],
   "source": [
    "#!pip install \"transformers[torch]\" \"huggingface_hub[inference]\"\n",
    "#!pip install llama-index\n",
    "#!pip install llama-index-llms-huggingface\n",
    "#!pip install llama-index-embeddings-huggingface\n",
    "#!pip install llama-index-embeddings-instructor\n",
    "#!pip install llama-index-llms-ollama\n",
    "#!pip install einops\n",
    "#!pip install autoawq"
   ]
  },
  {
   "cell_type": "code",
   "execution_count": 2,
   "id": "23f5839e-6ece-46c1-8311-d887dd1c7574",
   "metadata": {
    "execution": {
     "iopub.execute_input": "2024-04-26T09:18:29.861513Z",
     "iopub.status.busy": "2024-04-26T09:18:29.861195Z",
     "iopub.status.idle": "2024-04-26T09:18:29.866280Z",
     "shell.execute_reply": "2024-04-26T09:18:29.865375Z",
     "shell.execute_reply.started": "2024-04-26T09:18:29.861471Z"
    }
   },
   "outputs": [],
   "source": [
    " #!curl -fsSL https://ollama.com/install.sh | sh"
   ]
  },
  {
   "cell_type": "code",
   "execution_count": 3,
   "id": "69e50e0c-b274-4750-867f-2d9118c81f89",
   "metadata": {
    "execution": {
     "iopub.execute_input": "2024-04-26T09:18:29.867487Z",
     "iopub.status.busy": "2024-04-26T09:18:29.867258Z",
     "iopub.status.idle": "2024-04-26T09:18:34.755611Z",
     "shell.execute_reply": "2024-04-26T09:18:34.754714Z",
     "shell.execute_reply.started": "2024-04-26T09:18:29.867463Z"
    }
   },
   "outputs": [],
   "source": [
    "import os\n",
    "from typing import List, Optional\n",
    "\n",
    "from llama_index.llms.huggingface import (\n",
    "    HuggingFaceInferenceAPI,\n",
    "    HuggingFaceLLM,\n",
    ")"
   ]
  },
  {
   "cell_type": "code",
   "execution_count": 4,
   "id": "2aefd662-5e59-47f8-bdf8-0d3e2d5eaf4c",
   "metadata": {
    "execution": {
     "iopub.execute_input": "2024-04-26T09:18:34.757407Z",
     "iopub.status.busy": "2024-04-26T09:18:34.756957Z",
     "iopub.status.idle": "2024-04-26T09:18:34.761305Z",
     "shell.execute_reply": "2024-04-26T09:18:34.760500Z",
     "shell.execute_reply.started": "2024-04-26T09:18:34.757367Z"
    }
   },
   "outputs": [],
   "source": [
    "from llama_index.core import set_global_tokenizer\n",
    "from transformers import AutoTokenizer"
   ]
  },
  {
   "cell_type": "code",
   "execution_count": 5,
   "id": "e88b8cf3-ad8d-43c8-83e0-9c08fddce9dd",
   "metadata": {
    "execution": {
     "iopub.execute_input": "2024-04-26T09:18:34.764000Z",
     "iopub.status.busy": "2024-04-26T09:18:34.763398Z",
     "iopub.status.idle": "2024-04-26T09:18:37.049890Z",
     "shell.execute_reply": "2024-04-26T09:18:37.048858Z",
     "shell.execute_reply.started": "2024-04-26T09:18:34.763976Z"
    }
   },
   "outputs": [],
   "source": [
    "from llama_index.embeddings.huggingface import HuggingFaceEmbedding\n",
    "\n",
    "\n",
    "embed_model = HuggingFaceEmbedding(model_name=\"BAAI/bge-small-en-v1.5\", trust_remote_code = True, device = \"cpu\")"
   ]
  },
  {
   "cell_type": "code",
   "execution_count": 6,
   "id": "486d38e5-f27f-4535-b73e-4be695ef2d32",
   "metadata": {
    "execution": {
     "iopub.execute_input": "2024-04-26T09:18:37.051771Z",
     "iopub.status.busy": "2024-04-26T09:18:37.051141Z",
     "iopub.status.idle": "2024-04-26T09:18:37.563021Z",
     "shell.execute_reply": "2024-04-26T09:18:37.561872Z",
     "shell.execute_reply.started": "2024-04-26T09:18:37.051731Z"
    }
   },
   "outputs": [
    {
     "name": "stdout",
     "output_type": "stream",
     "text": [
      "384\n",
      "[-0.0032756798900663853, -0.011690747924149036, 0.041559211909770966, -0.03814811632037163, 0.02418307587504387]\n"
     ]
    }
   ],
   "source": [
    "embeddings = embed_model.get_text_embedding(\"Hello World!\")\n",
    "print(len(embeddings))\n",
    "print(embeddings[:5])"
   ]
  },
  {
   "cell_type": "code",
   "execution_count": 7,
   "id": "05661e16-0ac4-46b3-9797-53ad39b3eb60",
   "metadata": {
    "execution": {
     "iopub.execute_input": "2024-04-26T09:18:37.564436Z",
     "iopub.status.busy": "2024-04-26T09:18:37.564146Z",
     "iopub.status.idle": "2024-04-26T09:18:37.568116Z",
     "shell.execute_reply": "2024-04-26T09:18:37.567155Z",
     "shell.execute_reply.started": "2024-04-26T09:18:37.564411Z"
    }
   },
   "outputs": [],
   "source": [
    "# RUN IN TWO SEPARATE TERMINALS\n",
    "#!ollama serve\n",
    "#!ollama run llama3"
   ]
  },
  {
   "cell_type": "code",
   "execution_count": 8,
   "id": "6709eb72-9bd4-44c3-ba9f-ccb147934b91",
   "metadata": {
    "execution": {
     "iopub.execute_input": "2024-04-26T09:18:37.569623Z",
     "iopub.status.busy": "2024-04-26T09:18:37.569391Z",
     "iopub.status.idle": "2024-04-26T09:18:37.578721Z",
     "shell.execute_reply": "2024-04-26T09:18:37.577905Z",
     "shell.execute_reply.started": "2024-04-26T09:18:37.569601Z"
    }
   },
   "outputs": [],
   "source": [
    "from llama_index.core import VectorStoreIndex, SimpleDirectoryReader, Settings\n",
    "from llama_index.core.embeddings import resolve_embed_model\n",
    "\n",
    "from llama_index.llms.ollama import Ollama\n",
    "\n",
    "Settings.llm = Ollama(model=\"llama3\", request_timeout=600.0)\n",
    "Settings.embed_model = embed_model"
   ]
  },
  {
   "cell_type": "code",
   "execution_count": 9,
   "metadata": {},
   "outputs": [
    {
     "name": "stdout",
     "output_type": "stream",
     "text": [
      "./data\\Grant Agreement - GAP-101084284.pdf\n"
     ]
    }
   ],
   "source": [
    "import os\n",
    "import glob\n",
    "\n",
    "def get_file_paths(directory):\n",
    "    return glob.glob(os.path.join(directory, '*'))\n",
    "\n",
    "file_paths = get_file_paths(\"./data\")\n",
    "for path in file_paths:\n",
    "    print(path)"
   ]
  },
  {
   "cell_type": "code",
   "execution_count": 10,
   "id": "1e7830a3-7bff-42c1-b3fe-0fafe0562bbf",
   "metadata": {
    "execution": {
     "iopub.execute_input": "2024-04-26T09:18:37.579829Z",
     "iopub.status.busy": "2024-04-26T09:18:37.579596Z",
     "iopub.status.idle": "2024-04-26T09:18:52.217404Z",
     "shell.execute_reply": "2024-04-26T09:18:52.216203Z",
     "shell.execute_reply.started": "2024-04-26T09:18:37.579802Z"
    }
   },
   "outputs": [],
   "source": [
    "documents = SimpleDirectoryReader(input_files=file_paths).load_data()"
   ]
  },
  {
   "cell_type": "code",
   "execution_count": 11,
   "id": "031a9da1-7cf9-48dc-b222-f6ca76bad631",
   "metadata": {
    "execution": {
     "iopub.execute_input": "2024-04-26T09:18:52.218813Z",
     "iopub.status.busy": "2024-04-26T09:18:52.218552Z",
     "iopub.status.idle": "2024-04-26T09:18:56.728299Z",
     "shell.execute_reply": "2024-04-26T09:18:56.727540Z",
     "shell.execute_reply.started": "2024-04-26T09:18:52.218786Z"
    }
   },
   "outputs": [],
   "source": [
    "index = VectorStoreIndex.from_documents(documents)"
   ]
  },
  {
   "cell_type": "code",
   "execution_count": 12,
   "id": "abda287f-d587-434d-931d-aec20e95380b",
   "metadata": {
    "execution": {
     "iopub.execute_input": "2024-04-26T09:18:56.730421Z",
     "iopub.status.busy": "2024-04-26T09:18:56.729451Z",
     "iopub.status.idle": "2024-04-26T09:18:56.790607Z",
     "shell.execute_reply": "2024-04-26T09:18:56.789762Z",
     "shell.execute_reply.started": "2024-04-26T09:18:56.730380Z"
    }
   },
   "outputs": [],
   "source": [
    "query_engine = index.as_query_engine()\n",
    "#query_engine = index.as_query_engine(similarity_top_k=5)"
   ]
  },
  {
   "cell_type": "code",
   "execution_count": 13,
   "id": "2cdbbe5f-35e9-4f69-bad5-e3337f28c8e0",
   "metadata": {
    "execution": {
     "iopub.execute_input": "2024-04-26T09:18:56.792418Z",
     "iopub.status.busy": "2024-04-26T09:18:56.791590Z",
     "iopub.status.idle": "2024-04-26T09:19:16.288651Z",
     "shell.execute_reply": "2024-04-26T09:19:16.287957Z",
     "shell.execute_reply.started": "2024-04-26T09:18:56.792390Z"
    }
   },
   "outputs": [
    {
     "name": "stdout",
     "output_type": "stream",
     "text": [
      "Based on the provided context information, the participants of the PataFEST European project are:\n",
      "\n",
      "1. Funditec (Coordinator)\n",
      "2. UDAPA (Agricultural Cooperative)\n",
      "3. ANECOOP (Agricultural Cooperative)\n",
      "4. EUPAT (European Potato Trade Association)\n",
      "5. IRIS\n",
      "6. KNEIA\n",
      "7. CHEMIA\n",
      "8. BOEH\n",
      "9. TERREA\n",
      "10. FUND (Research and Technology Organisation)\n",
      "11. NEIKER (Research and Technology Organisation)\n",
      "12. INIAP (Instituto Nacional de Investigación Agropecuaria, Ecuador)\n",
      "13. AINIA (Asociación para la Innovación y el Desarrollo Agrario, Spain)\n",
      "14. CRUN (Universidad de La Rioja, Spain)\n",
      "15. UPOL (Universidad Politécnica de Madrid, Spain)\n",
      "16. TECHN (Technische Universität Dresden, Germany)\n",
      "17. UNIBO (Università di Bologna, Italy)\n",
      "18. ECSA (European Citizens' Science Association)\n",
      "\n",
      "These 18 partners from 9 different countries (6 from the EU and UK, Israel, and Ecuador) comprise the PataFEST consortium.\n"
     ]
    }
   ],
   "source": [
    "response = query_engine.query(\"what are the participants of the PATAFEST european project?\")\n",
    "print(response)"
   ]
  },
  {
   "cell_type": "code",
   "execution_count": 14,
   "id": "455b329d-0e6b-46f4-8556-601e77fbf05e",
   "metadata": {
    "execution": {
     "iopub.execute_input": "2024-04-26T09:19:45.259235Z",
     "iopub.status.busy": "2024-04-26T09:19:45.258886Z",
     "iopub.status.idle": "2024-04-26T09:19:54.119950Z",
     "shell.execute_reply": "2024-04-26T09:19:54.119213Z",
     "shell.execute_reply.started": "2024-04-26T09:19:45.259209Z"
    }
   },
   "outputs": [
    {
     "name": "stdout",
     "output_type": "stream",
     "text": [
      "According to the provided context information, the PataFEST work plan is divided into six work packages aimed at fulfilling the general requirements set out by the target HE's topic and promoting the interaction between all participants. The six work packages are:\n",
      "\n",
      "1. WP1: Exploring pest spread pathways and main resistance potato varieties against CLso and postharvest pathogens at a molecular level.\n",
      "2. WP2: Developing early detection and surveillance tools, including image analysis digital tool (mobile app) and portable VOCs sensor for rapid diagnostic of pests and pathogens disease development.\n",
      "3. WP3: Developing pest prevention strategies based on sustainable and effective plant and soil treatments and biocontrol coating solution to control incidence of soil-borne pathogens during potato postharvest storage.\n",
      "4. (No explicit mention of WP4, but it can be inferred that there might not be one)\n",
      "5. WP5: Dedicated dissemination, communication, and exploitation activities to secure the maximum impact of the project.\n",
      "6. WP6: Managing the project in order to make all proposed developments align with the PataFEST objectives.\n"
     ]
    }
   ],
   "source": [
    "response = query_engine.query(\"what are the work packages of the PATAFEST european project?\")\n",
    "print(response)"
   ]
  },
  {
   "cell_type": "code",
   "execution_count": 15,
   "id": "1cb2ea40-ad15-47be-a905-b7c33f080298",
   "metadata": {
    "execution": {
     "iopub.execute_input": "2024-04-26T09:22:09.705314Z",
     "iopub.status.busy": "2024-04-26T09:22:09.703949Z",
     "iopub.status.idle": "2024-04-26T09:22:17.748934Z",
     "shell.execute_reply": "2024-04-26T09:22:17.747828Z",
     "shell.execute_reply.started": "2024-04-26T09:22:09.705269Z"
    }
   },
   "outputs": [
    {
     "name": "stdout",
     "output_type": "stream",
     "text": [
      "Based on the provided context information, it appears that there is no specific mention of a particular participant or participants providing images of potatoes and potato plants for the PATAFEST European project. The context mainly focuses on the project's objectives, methodology, partners, and communication strategy.\n",
      "\n",
      "However, considering the scope of the project and its focus on potato production, breeding, and pest management, it is possible that some partner organizations may provide relevant images or visual materials as part of their contributions to the project. Nevertheless, without further information or specific mention in the context provided, it is not possible to identify a particular participant or participants providing such images.\n"
     ]
    }
   ],
   "source": [
    "response = query_engine.query(\"what participant or participants provide images of potatoes and potato plants for the PATAFEST european project?\")\n",
    "print(response)"
   ]
  },
  {
   "cell_type": "code",
   "execution_count": 16,
   "id": "dcdb29c8-3743-473a-99ca-84ccac4e1043",
   "metadata": {
    "execution": {
     "iopub.execute_input": "2024-04-26T09:25:17.004700Z",
     "iopub.status.busy": "2024-04-26T09:25:17.004318Z",
     "iopub.status.idle": "2024-04-26T09:25:30.371860Z",
     "shell.execute_reply": "2024-04-26T09:25:30.370838Z",
     "shell.execute_reply.started": "2024-04-26T09:25:17.004664Z"
    }
   },
   "outputs": [
    {
     "name": "stdout",
     "output_type": "stream",
     "text": [
      "Based on the provided context information, I can help you with that.\n",
      "\n",
      "Here are the Objectives, Tasks, and Deliverables divided by Work Package for the PATAFEST European project:\n",
      "\n",
      "**Work Package WP6 – Project Management**\n",
      "\n",
      "* Objectives:\n",
      "\t+ Coordinate and manage the project and the efficient, smooth, and timely execution of all activities.\n",
      "\t+ Ensure an accurate and on-time communication flow among the project partners and with the EC to track the project progress and meet its objectives.\n",
      "\t+ Complete the project within the agreed time schedule and budget.\n",
      "\n",
      "* Tasks:\n",
      "\t+ T6.1 Administrative & Financial Management (M1-M48).\n",
      "\t+ T6.2 Scientific, decision-making and risk management (M1-M48).\n",
      "\t+ T6.3 Data management plan and data interoperability (M1-M48).\n",
      "\n",
      "**T6.1 Administrative & Financial Management (M1-M48)**\n",
      "\n",
      "* Deliverables:\n",
      "\t+ Delivery and follow-up of all administrative documents required by the EC.\n",
      "\t+ Keeping the consortium up-to-date on any information communicated by the EC.\n",
      "\n",
      "**T6.2 Scientific, decision-making and risk management (M1-M48)**\n",
      "\n",
      "* Deliverables:\n",
      "\t+ Regular 6-monthly consortium meetings to implement decisions taken by the Scientific Coordinator.\n",
      "\t+ Half-yearly meetings with the Steering Committee to evaluate the Project's scientific progress and any need for eventual corrective measures.\n",
      "\n",
      "**T6.3 Data management plan and data interoperability (M1-M48)**\n",
      "\n",
      "* Deliverables:\n",
      "\t+ A Data Management Plan (DMP) ensuring that scientific research data will be easily discoverable, accessible, assessable, and intelligible.\n",
      "\t+ Procedures for handling research data, data to be shared and published in open access.\n",
      "\n",
      "Please note that these are the specific objectives, tasks, and deliverables mentioned in the context information. There might be additional or further details not provided here.\n"
     ]
    }
   ],
   "source": [
    "response = query_engine.query(\"list all objectives, tasks and deliverables divided by work package of the PATAFEST european project?\")\n",
    "print(response)"
   ]
  },
  {
   "cell_type": "code",
   "execution_count": 17,
   "id": "af845517-5e31-485f-99f4-ada7833056e5",
   "metadata": {
    "execution": {
     "iopub.execute_input": "2024-04-26T09:28:36.132096Z",
     "iopub.status.busy": "2024-04-26T09:28:36.131718Z",
     "iopub.status.idle": "2024-04-26T09:28:54.517496Z",
     "shell.execute_reply": "2024-04-26T09:28:54.516477Z",
     "shell.execute_reply.started": "2024-04-26T09:28:36.132070Z"
    }
   },
   "outputs": [
    {
     "name": "stdout",
     "output_type": "stream",
     "text": [
      "Based on the provided context, I will outline the objectives, tasks, and deliverables for each Work Package (WP) in the PataFEST European project. Here is the information:\n",
      "\n",
      "**Work Package 1 (WP1): Exploring pest spread pathways and resistance potato varieties**\n",
      "\n",
      "* Objective: To explore pest spread pathways and identify main resistance potato varieties against CLso and postharvest pathogens.\n",
      "* Tasks:\n",
      "\t+ Conduct molecular-level analysis of pest spread pathways.\n",
      "\t+ Identify resistant potato varieties.\n",
      "* Deliverables:\n",
      "\t+ Report on pest spread pathways and resistant potato varieties.\n",
      "\n",
      "**Work Package 2 (WP2): Developing early detection and surveillance tools**\n",
      "\n",
      "* Objective: To develop early detection and surveillance tools for rapid diagnostic of pest and pathogens diseases development.\n",
      "* Tasks:\n",
      "\t+ Design and develop a mobile app for image analysis.\n",
      "\t+ Develop a portable VOCs sensor for detecting pests and pathogens.\n",
      "* Deliverables:\n",
      "\t+ Mobile app for image analysis.\n",
      "\t+ Portable VOCs sensor.\n",
      "\n",
      "**Work Package 3 (WP3): Developing pest prevention strategies**\n",
      "\n",
      "* Objective: To develop sustainable and effective plant and soil treatments, as well as biocontrol coating solutions to control incidence of soil-borne pathogens during potato postharvest storage.\n",
      "* Tasks:\n",
      "\t+ Develop sustainable and effective plant treatments.\n",
      "\t+ Develop sustainable and effective soil treatments.\n",
      "\t+ Develop biocontrol coating solutions.\n",
      "* Deliverables:\n",
      "\t+ Report on pest prevention strategies.\n",
      "\n",
      "**Work Package 5 (WP5): Dissemination, communication, and exploitation activities**\n",
      "\n",
      "* Objective: To secure the maximum impact of the project through dedicated dissemination, communication, and exploitation activities.\n",
      "* Tasks:\n",
      "\t+ Design and develop project leaflets, posters, project video, newsletters, and promotional materials.\n",
      "\t+ Develop two dissemination videos: an introductory video on M6 for the general public and a dissemination report video at the end of the project describing final results.\n",
      "\t+ Publish materials on PataFEST's main communication channels (YouTube, website, social media profiles) as well as on EUPAT and other partner's channels to raise awareness and engage stakeholders with project pilots.\n",
      "\n",
      "**Work Package 6 (WP6): Project management**\n",
      "\n",
      "* Objective: To manage the project in order to make all proposed developments align with PataFEST objectives.\n",
      "* Tasks:\n",
      "\t+ Manage project progress and timeline.\n",
      "\t+ Ensure effective communication among partners.\n",
      "* Deliverables:\n",
      "\t+ Report on project management.\n",
      "\n",
      "Please note that this information is based solely on the provided context and does not draw upon any prior knowledge.\n"
     ]
    }
   ],
   "source": [
    "response = query_engine.query(\"list all objectives, tasks and deliverables for every work package of the PATAFEST european project\")\n",
    "print(response)"
   ]
  },
  {
   "cell_type": "markdown",
   "metadata": {},
   "source": [
    "# Use chatbot instead of single queries"
   ]
  },
  {
   "cell_type": "code",
   "execution_count": 19,
   "metadata": {},
   "outputs": [
    {
     "name": "stdout",
     "output_type": "stream",
     "text": [
      "The participants of the PATAFEST European project include farmers, vegetable producers and traders, bio-based industry related to plant health and soil solutions, scientists, consumers, policymakers, the general public, relevant European and international organizations, other brother projects' partners, potential industrial end-users, and industrial multipliers and associations.\n",
      "--------------------------------------------------\n",
      "The PATAFEST European project participants include all partners involved in the project, including those mentioned by name such as ECSA, KNEIA, UDAPA, EUPAT, ANECOOP, FUND, and others.\n"
     ]
    }
   ],
   "source": [
    "from llama_index.core import VectorStoreIndex, SimpleDirectoryReader\n",
    "\n",
    "\n",
    "query_engine = index.as_chat_engine()\n",
    "response = query_engine.chat(\"what are the participants of the PATAFEST european project?\")\n",
    "print(response)\n",
    "\n",
    "print(\"-\"*50)\n",
    "\n",
    "response = query_engine.chat(\"Oh interesting, tell me more.\")\n",
    "print(response)"
   ]
  }
 ],
 "metadata": {
  "kernelspec": {
   "display_name": "Python 3 (ipykernel)",
   "language": "python",
   "name": "python3"
  },
  "language_info": {
   "codemirror_mode": {
    "name": "ipython",
    "version": 3
   },
   "file_extension": ".py",
   "mimetype": "text/x-python",
   "name": "python",
   "nbconvert_exporter": "python",
   "pygments_lexer": "ipython3",
   "version": "3.10.14"
  }
 },
 "nbformat": 4,
 "nbformat_minor": 5
}
